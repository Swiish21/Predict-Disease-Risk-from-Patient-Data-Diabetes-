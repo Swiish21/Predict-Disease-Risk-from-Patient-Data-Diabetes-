{
 "cells": [
  {
   "cell_type": "code",
   "execution_count": null,
   "id": "53a24370",
   "metadata": {},
   "outputs": [],
   "source": [
    "from src.data_loader import load_diabetes_data\n",
    "\n",
    "df = load_diabetes_data()\n",
    "df.head()\n"
   ]
  }
 ],
 "metadata": {
  "kernelspec": {
   "display_name": ".venv",
   "language": "python",
   "name": "python3"
  },
  "language_info": {
   "name": "python",
   "version": "3.11.9"
  }
 },
 "nbformat": 4,
 "nbformat_minor": 5
}
